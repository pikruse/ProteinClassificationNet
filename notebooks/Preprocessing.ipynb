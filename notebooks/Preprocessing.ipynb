{
 "cells": [
  {
   "cell_type": "code",
   "execution_count": 1,
   "metadata": {},
   "outputs": [],
   "source": [
    "# import necessary packages\n",
    "import os, sys, glob\n",
    "import gzip\n",
    "from Bio import PDB\n",
    "from Bio.SeqUtils import seq1\n",
    "from Bio.SeqRecord import SeqRecord\n",
    "from Bio.Seq import Seq\n",
    "from Bio import SeqIO\n",
    "\n",
    "# append outer dir to path\n",
    "sys.path.append('../')\n"
   ]
  },
  {
   "cell_type": "code",
   "execution_count": 1,
   "metadata": {},
   "outputs": [],
   "source": [
    "# define directory for input and output\n",
    "pdb_dir = \"data/raw_PDB/\"\n",
    "output_dir = \"data/preproc_sequences/\"\n",
    "output_name = \"preproc_seq.fasta\""
   ]
  },
  {
   "cell_type": "code",
   "execution_count": null,
   "metadata": {},
   "outputs": [],
   "source": [
    "# define pdb parser\n",
    "parser = PDB.PDBParser(QUIET=True)\n",
    "\n",
    "# define function to extract sequences from pdb files\n",
    "def extract_sequences(pdb_dir):\n",
    "    \n",
    "    # make empty list to store sequences\n",
    "    sequences = []\n",
    "\n",
    "    # loop through files in pdb_dir \n",
    "    for pdb_file in os.listdir(pdb_dir):\n",
    "\n",
    "        # only look at zipped files\n",
    "        if pdb_file.endswith(\".pdb.gz\"):\n",
    "            \n",
    "            # open the pdb file\n",
    "            with gzip.open(os.path.join(pdb_dir, pdb_file), 'rt') as f:\n",
    "                \n",
    "                # extract structure from pdb\n",
    "                structure = parser.get_structure()\n",
    "\n",
    "                # loop through separate models (of the same protein)\n",
    "                for model in structure:\n",
    "\n",
    "                    # loop through chains in model\n",
    "                    for chain in model:\n",
    "                        \n",
    "                        # init blank sequence\n",
    "                        sequence = \"\"\n",
    "\n",
    "                        # loop through residue (amino acids, building blocks) in chains\n",
    "                        for residue in chain:\n",
    "                            \n",
    "                            \n",
    "                            if residue.id[0]:\n",
    "\n",
    "\n"
   ]
  }
 ],
 "metadata": {
  "kernelspec": {
   "display_name": ".venv",
   "language": "python",
   "name": "python3"
  },
  "language_info": {
   "codemirror_mode": {
    "name": "ipython",
    "version": 3
   },
   "file_extension": ".py",
   "mimetype": "text/x-python",
   "name": "python",
   "nbconvert_exporter": "python",
   "pygments_lexer": "ipython3",
   "version": "3.8.10"
  }
 },
 "nbformat": 4,
 "nbformat_minor": 2
}
